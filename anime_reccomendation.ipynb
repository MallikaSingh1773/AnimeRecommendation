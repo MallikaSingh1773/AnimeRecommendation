{
  "cells": [
    {
      "cell_type": "code",
      "execution_count": 1,
      "metadata": {
        "_cell_guid": "b1076dfc-b9ad-4769-8c92-a6c4dae69d19",
        "_uuid": "8f2839f25d086af736a60e9eeb907d3b93b6e0e5",
        "execution": {
          "iopub.execute_input": "2024-03-30T09:50:54.982948Z",
          "iopub.status.busy": "2024-03-30T09:50:54.982492Z",
          "iopub.status.idle": "2024-03-30T09:50:56.142027Z",
          "shell.execute_reply": "2024-03-30T09:50:56.140768Z",
          "shell.execute_reply.started": "2024-03-30T09:50:54.982836Z"
        },
        "id": "ogNOIlEcZMyx",
        "trusted": true
      },
      "outputs": [],
      "source": [
        "import numpy as np\n",
        "import pandas as pd"
      ]
    },
    {
      "cell_type": "code",
      "execution_count": 2,
      "metadata": {
        "execution": {
          "iopub.execute_input": "2024-03-30T09:50:56.144632Z",
          "iopub.status.busy": "2024-03-30T09:50:56.144174Z",
          "iopub.status.idle": "2024-03-30T09:50:58.83677Z",
          "shell.execute_reply": "2024-03-30T09:50:58.835451Z",
          "shell.execute_reply.started": "2024-03-30T09:50:56.144602Z"
        },
        "id": "DntiZPGGZMyx",
        "trusted": true
      },
      "outputs": [],
      "source": [
        "anime = pd.read_csv(\"anime.csv\")\n"
      ]
    },
    {
      "cell_type": "code",
      "execution_count": 3,
      "metadata": {
        "colab": {
          "base_uri": "https://localhost:8080/",
          "height": 275
        },
        "execution": {
          "iopub.execute_input": "2024-03-30T09:50:58.838628Z",
          "iopub.status.busy": "2024-03-30T09:50:58.838257Z",
          "iopub.status.idle": "2024-03-30T09:50:58.86266Z",
          "shell.execute_reply": "2024-03-30T09:50:58.861331Z",
          "shell.execute_reply.started": "2024-03-30T09:50:58.838592Z"
        },
        "id": "M2yXEMygZMyy",
        "outputId": "4adc68db-e499-4248-84ad-f8813f211af4",
        "trusted": true
      },
      "outputs": [
        {
          "data": {
            "text/html": [
              "<div>\n",
              "<style scoped>\n",
              "    .dataframe tbody tr th:only-of-type {\n",
              "        vertical-align: middle;\n",
              "    }\n",
              "\n",
              "    .dataframe tbody tr th {\n",
              "        vertical-align: top;\n",
              "    }\n",
              "\n",
              "    .dataframe thead th {\n",
              "        text-align: right;\n",
              "    }\n",
              "</style>\n",
              "<table border=\"1\" class=\"dataframe\">\n",
              "  <thead>\n",
              "    <tr style=\"text-align: right;\">\n",
              "      <th></th>\n",
              "      <th>anime_id</th>\n",
              "      <th>name</th>\n",
              "      <th>genre</th>\n",
              "      <th>type</th>\n",
              "      <th>episodes</th>\n",
              "      <th>rating</th>\n",
              "      <th>members</th>\n",
              "    </tr>\n",
              "  </thead>\n",
              "  <tbody>\n",
              "    <tr>\n",
              "      <th>0</th>\n",
              "      <td>32281</td>\n",
              "      <td>Kimi no Na wa.</td>\n",
              "      <td>Drama, Romance, School, Supernatural</td>\n",
              "      <td>Movie</td>\n",
              "      <td>1</td>\n",
              "      <td>9.37</td>\n",
              "      <td>200630</td>\n",
              "    </tr>\n",
              "    <tr>\n",
              "      <th>1</th>\n",
              "      <td>5114</td>\n",
              "      <td>Fullmetal Alchemist: Brotherhood</td>\n",
              "      <td>Action, Adventure, Drama, Fantasy, Magic, Mili...</td>\n",
              "      <td>TV</td>\n",
              "      <td>64</td>\n",
              "      <td>9.26</td>\n",
              "      <td>793665</td>\n",
              "    </tr>\n",
              "    <tr>\n",
              "      <th>2</th>\n",
              "      <td>28977</td>\n",
              "      <td>Gintama°</td>\n",
              "      <td>Action, Comedy, Historical, Parody, Samurai, S...</td>\n",
              "      <td>TV</td>\n",
              "      <td>51</td>\n",
              "      <td>9.25</td>\n",
              "      <td>114262</td>\n",
              "    </tr>\n",
              "    <tr>\n",
              "      <th>3</th>\n",
              "      <td>9253</td>\n",
              "      <td>Steins;Gate</td>\n",
              "      <td>Sci-Fi, Thriller</td>\n",
              "      <td>TV</td>\n",
              "      <td>24</td>\n",
              "      <td>9.17</td>\n",
              "      <td>673572</td>\n",
              "    </tr>\n",
              "    <tr>\n",
              "      <th>4</th>\n",
              "      <td>9969</td>\n",
              "      <td>Gintama&amp;#039;</td>\n",
              "      <td>Action, Comedy, Historical, Parody, Samurai, S...</td>\n",
              "      <td>TV</td>\n",
              "      <td>51</td>\n",
              "      <td>9.16</td>\n",
              "      <td>151266</td>\n",
              "    </tr>\n",
              "  </tbody>\n",
              "</table>\n",
              "</div>"
            ],
            "text/plain": [
              "   anime_id                              name  \\\n",
              "0     32281                    Kimi no Na wa.   \n",
              "1      5114  Fullmetal Alchemist: Brotherhood   \n",
              "2     28977                          Gintama°   \n",
              "3      9253                       Steins;Gate   \n",
              "4      9969                     Gintama&#039;   \n",
              "\n",
              "                                               genre   type episodes  rating  \\\n",
              "0               Drama, Romance, School, Supernatural  Movie        1    9.37   \n",
              "1  Action, Adventure, Drama, Fantasy, Magic, Mili...     TV       64    9.26   \n",
              "2  Action, Comedy, Historical, Parody, Samurai, S...     TV       51    9.25   \n",
              "3                                   Sci-Fi, Thriller     TV       24    9.17   \n",
              "4  Action, Comedy, Historical, Parody, Samurai, S...     TV       51    9.16   \n",
              "\n",
              "   members  \n",
              "0   200630  \n",
              "1   793665  \n",
              "2   114262  \n",
              "3   673572  \n",
              "4   151266  "
            ]
          },
          "execution_count": 3,
          "metadata": {},
          "output_type": "execute_result"
        }
      ],
      "source": [
        "anime.head()"
      ]
    },
    {
      "cell_type": "code",
      "execution_count": 4,
      "metadata": {
        "colab": {
          "base_uri": "https://localhost:8080/",
          "height": 527
        },
        "execution": {
          "iopub.execute_input": "2024-03-30T09:50:58.864533Z",
          "iopub.status.busy": "2024-03-30T09:50:58.864145Z",
          "iopub.status.idle": "2024-03-30T09:50:58.892822Z",
          "shell.execute_reply": "2024-03-30T09:50:58.891514Z",
          "shell.execute_reply.started": "2024-03-30T09:50:58.864502Z"
        },
        "id": "l8Jq2FrIZMyy",
        "outputId": "caca52b7-23cb-45ed-d9e9-04f8e53e49db",
        "trusted": true
      },
      "outputs": [
        {
          "data": {
            "text/html": [
              "<div>\n",
              "<style scoped>\n",
              "    .dataframe tbody tr th:only-of-type {\n",
              "        vertical-align: middle;\n",
              "    }\n",
              "\n",
              "    .dataframe tbody tr th {\n",
              "        vertical-align: top;\n",
              "    }\n",
              "\n",
              "    .dataframe thead th {\n",
              "        text-align: right;\n",
              "    }\n",
              "</style>\n",
              "<table border=\"1\" class=\"dataframe\">\n",
              "  <thead>\n",
              "    <tr style=\"text-align: right;\">\n",
              "      <th></th>\n",
              "      <th>anime_id</th>\n",
              "      <th>name</th>\n",
              "      <th>genre</th>\n",
              "      <th>type</th>\n",
              "      <th>episodes</th>\n",
              "      <th>rating</th>\n",
              "    </tr>\n",
              "  </thead>\n",
              "  <tbody>\n",
              "    <tr>\n",
              "      <th>0</th>\n",
              "      <td>32281</td>\n",
              "      <td>Kimi no Na wa.</td>\n",
              "      <td>Drama, Romance, School, Supernatural</td>\n",
              "      <td>Movie</td>\n",
              "      <td>1</td>\n",
              "      <td>9.37</td>\n",
              "    </tr>\n",
              "    <tr>\n",
              "      <th>1</th>\n",
              "      <td>5114</td>\n",
              "      <td>Fullmetal Alchemist: Brotherhood</td>\n",
              "      <td>Action, Adventure, Drama, Fantasy, Magic, Mili...</td>\n",
              "      <td>TV</td>\n",
              "      <td>64</td>\n",
              "      <td>9.26</td>\n",
              "    </tr>\n",
              "    <tr>\n",
              "      <th>2</th>\n",
              "      <td>28977</td>\n",
              "      <td>Gintama°</td>\n",
              "      <td>Action, Comedy, Historical, Parody, Samurai, S...</td>\n",
              "      <td>TV</td>\n",
              "      <td>51</td>\n",
              "      <td>9.25</td>\n",
              "    </tr>\n",
              "    <tr>\n",
              "      <th>3</th>\n",
              "      <td>9253</td>\n",
              "      <td>Steins;Gate</td>\n",
              "      <td>Sci-Fi, Thriller</td>\n",
              "      <td>TV</td>\n",
              "      <td>24</td>\n",
              "      <td>9.17</td>\n",
              "    </tr>\n",
              "    <tr>\n",
              "      <th>4</th>\n",
              "      <td>9969</td>\n",
              "      <td>Gintama&amp;#039;</td>\n",
              "      <td>Action, Comedy, Historical, Parody, Samurai, S...</td>\n",
              "      <td>TV</td>\n",
              "      <td>51</td>\n",
              "      <td>9.16</td>\n",
              "    </tr>\n",
              "    <tr>\n",
              "      <th>...</th>\n",
              "      <td>...</td>\n",
              "      <td>...</td>\n",
              "      <td>...</td>\n",
              "      <td>...</td>\n",
              "      <td>...</td>\n",
              "      <td>...</td>\n",
              "    </tr>\n",
              "    <tr>\n",
              "      <th>12289</th>\n",
              "      <td>9316</td>\n",
              "      <td>Toushindai My Lover: Minami tai Mecha-Minami</td>\n",
              "      <td>Hentai</td>\n",
              "      <td>OVA</td>\n",
              "      <td>1</td>\n",
              "      <td>4.15</td>\n",
              "    </tr>\n",
              "    <tr>\n",
              "      <th>12290</th>\n",
              "      <td>5543</td>\n",
              "      <td>Under World</td>\n",
              "      <td>Hentai</td>\n",
              "      <td>OVA</td>\n",
              "      <td>1</td>\n",
              "      <td>4.28</td>\n",
              "    </tr>\n",
              "    <tr>\n",
              "      <th>12291</th>\n",
              "      <td>5621</td>\n",
              "      <td>Violence Gekiga David no Hoshi</td>\n",
              "      <td>Hentai</td>\n",
              "      <td>OVA</td>\n",
              "      <td>4</td>\n",
              "      <td>4.88</td>\n",
              "    </tr>\n",
              "    <tr>\n",
              "      <th>12292</th>\n",
              "      <td>6133</td>\n",
              "      <td>Violence Gekiga Shin David no Hoshi: Inma Dens...</td>\n",
              "      <td>Hentai</td>\n",
              "      <td>OVA</td>\n",
              "      <td>1</td>\n",
              "      <td>4.98</td>\n",
              "    </tr>\n",
              "    <tr>\n",
              "      <th>12293</th>\n",
              "      <td>26081</td>\n",
              "      <td>Yasuji no Pornorama: Yacchimae!!</td>\n",
              "      <td>Hentai</td>\n",
              "      <td>Movie</td>\n",
              "      <td>1</td>\n",
              "      <td>5.46</td>\n",
              "    </tr>\n",
              "  </tbody>\n",
              "</table>\n",
              "<p>12294 rows × 6 columns</p>\n",
              "</div>"
            ],
            "text/plain": [
              "       anime_id                                               name  \\\n",
              "0         32281                                     Kimi no Na wa.   \n",
              "1          5114                   Fullmetal Alchemist: Brotherhood   \n",
              "2         28977                                           Gintama°   \n",
              "3          9253                                        Steins;Gate   \n",
              "4          9969                                      Gintama&#039;   \n",
              "...         ...                                                ...   \n",
              "12289      9316       Toushindai My Lover: Minami tai Mecha-Minami   \n",
              "12290      5543                                        Under World   \n",
              "12291      5621                     Violence Gekiga David no Hoshi   \n",
              "12292      6133  Violence Gekiga Shin David no Hoshi: Inma Dens...   \n",
              "12293     26081                   Yasuji no Pornorama: Yacchimae!!   \n",
              "\n",
              "                                                   genre   type episodes  \\\n",
              "0                   Drama, Romance, School, Supernatural  Movie        1   \n",
              "1      Action, Adventure, Drama, Fantasy, Magic, Mili...     TV       64   \n",
              "2      Action, Comedy, Historical, Parody, Samurai, S...     TV       51   \n",
              "3                                       Sci-Fi, Thriller     TV       24   \n",
              "4      Action, Comedy, Historical, Parody, Samurai, S...     TV       51   \n",
              "...                                                  ...    ...      ...   \n",
              "12289                                             Hentai    OVA        1   \n",
              "12290                                             Hentai    OVA        1   \n",
              "12291                                             Hentai    OVA        4   \n",
              "12292                                             Hentai    OVA        1   \n",
              "12293                                             Hentai  Movie        1   \n",
              "\n",
              "       rating  \n",
              "0        9.37  \n",
              "1        9.26  \n",
              "2        9.25  \n",
              "3        9.17  \n",
              "4        9.16  \n",
              "...       ...  \n",
              "12289    4.15  \n",
              "12290    4.28  \n",
              "12291    4.88  \n",
              "12292    4.98  \n",
              "12293    5.46  \n",
              "\n",
              "[12294 rows x 6 columns]"
            ]
          },
          "execution_count": 4,
          "metadata": {},
          "output_type": "execute_result"
        }
      ],
      "source": [
        "anime = anime.drop(columns=['members'])\n",
        "anime"
      ]
    },
    {
      "cell_type": "code",
      "execution_count": 5,
      "metadata": {
        "colab": {
          "base_uri": "https://localhost:8080/",
          "height": 527
        },
        "execution": {
          "iopub.execute_input": "2024-03-30T09:53:32.99353Z",
          "iopub.status.busy": "2024-03-30T09:53:32.993107Z",
          "iopub.status.idle": "2024-03-30T09:53:33.020236Z",
          "shell.execute_reply": "2024-03-30T09:53:33.019134Z",
          "shell.execute_reply.started": "2024-03-30T09:53:32.993498Z"
        },
        "id": "Zre6GbGtZMyy",
        "outputId": "f8579e73-2bca-4773-eaa6-c855dbb19eba",
        "trusted": true
      },
      "outputs": [
        {
          "data": {
            "text/html": [
              "<div>\n",
              "<style scoped>\n",
              "    .dataframe tbody tr th:only-of-type {\n",
              "        vertical-align: middle;\n",
              "    }\n",
              "\n",
              "    .dataframe tbody tr th {\n",
              "        vertical-align: top;\n",
              "    }\n",
              "\n",
              "    .dataframe thead th {\n",
              "        text-align: right;\n",
              "    }\n",
              "</style>\n",
              "<table border=\"1\" class=\"dataframe\">\n",
              "  <thead>\n",
              "    <tr style=\"text-align: right;\">\n",
              "      <th></th>\n",
              "      <th>anime_id</th>\n",
              "      <th>name</th>\n",
              "      <th>episodes</th>\n",
              "      <th>rating</th>\n",
              "      <th>tags</th>\n",
              "    </tr>\n",
              "  </thead>\n",
              "  <tbody>\n",
              "    <tr>\n",
              "      <th>0</th>\n",
              "      <td>32281</td>\n",
              "      <td>Kimi no Na wa.</td>\n",
              "      <td>1</td>\n",
              "      <td>9.37</td>\n",
              "      <td>Drama, Romance, School, Supernatural,Movie</td>\n",
              "    </tr>\n",
              "    <tr>\n",
              "      <th>1</th>\n",
              "      <td>5114</td>\n",
              "      <td>Fullmetal Alchemist: Brotherhood</td>\n",
              "      <td>64</td>\n",
              "      <td>9.26</td>\n",
              "      <td>Action, Adventure, Drama, Fantasy, Magic, Mili...</td>\n",
              "    </tr>\n",
              "    <tr>\n",
              "      <th>2</th>\n",
              "      <td>28977</td>\n",
              "      <td>Gintama°</td>\n",
              "      <td>51</td>\n",
              "      <td>9.25</td>\n",
              "      <td>Action, Comedy, Historical, Parody, Samurai, S...</td>\n",
              "    </tr>\n",
              "    <tr>\n",
              "      <th>3</th>\n",
              "      <td>9253</td>\n",
              "      <td>Steins;Gate</td>\n",
              "      <td>24</td>\n",
              "      <td>9.17</td>\n",
              "      <td>Sci-Fi, Thriller,TV</td>\n",
              "    </tr>\n",
              "    <tr>\n",
              "      <th>4</th>\n",
              "      <td>9969</td>\n",
              "      <td>Gintama&amp;#039;</td>\n",
              "      <td>51</td>\n",
              "      <td>9.16</td>\n",
              "      <td>Action, Comedy, Historical, Parody, Samurai, S...</td>\n",
              "    </tr>\n",
              "    <tr>\n",
              "      <th>...</th>\n",
              "      <td>...</td>\n",
              "      <td>...</td>\n",
              "      <td>...</td>\n",
              "      <td>...</td>\n",
              "      <td>...</td>\n",
              "    </tr>\n",
              "    <tr>\n",
              "      <th>12289</th>\n",
              "      <td>9316</td>\n",
              "      <td>Toushindai My Lover: Minami tai Mecha-Minami</td>\n",
              "      <td>1</td>\n",
              "      <td>4.15</td>\n",
              "      <td>Hentai,OVA</td>\n",
              "    </tr>\n",
              "    <tr>\n",
              "      <th>12290</th>\n",
              "      <td>5543</td>\n",
              "      <td>Under World</td>\n",
              "      <td>1</td>\n",
              "      <td>4.28</td>\n",
              "      <td>Hentai,OVA</td>\n",
              "    </tr>\n",
              "    <tr>\n",
              "      <th>12291</th>\n",
              "      <td>5621</td>\n",
              "      <td>Violence Gekiga David no Hoshi</td>\n",
              "      <td>4</td>\n",
              "      <td>4.88</td>\n",
              "      <td>Hentai,OVA</td>\n",
              "    </tr>\n",
              "    <tr>\n",
              "      <th>12292</th>\n",
              "      <td>6133</td>\n",
              "      <td>Violence Gekiga Shin David no Hoshi: Inma Dens...</td>\n",
              "      <td>1</td>\n",
              "      <td>4.98</td>\n",
              "      <td>Hentai,OVA</td>\n",
              "    </tr>\n",
              "    <tr>\n",
              "      <th>12293</th>\n",
              "      <td>26081</td>\n",
              "      <td>Yasuji no Pornorama: Yacchimae!!</td>\n",
              "      <td>1</td>\n",
              "      <td>5.46</td>\n",
              "      <td>Hentai,Movie</td>\n",
              "    </tr>\n",
              "  </tbody>\n",
              "</table>\n",
              "<p>12294 rows × 5 columns</p>\n",
              "</div>"
            ],
            "text/plain": [
              "       anime_id                                               name episodes  \\\n",
              "0         32281                                     Kimi no Na wa.        1   \n",
              "1          5114                   Fullmetal Alchemist: Brotherhood       64   \n",
              "2         28977                                           Gintama°       51   \n",
              "3          9253                                        Steins;Gate       24   \n",
              "4          9969                                      Gintama&#039;       51   \n",
              "...         ...                                                ...      ...   \n",
              "12289      9316       Toushindai My Lover: Minami tai Mecha-Minami        1   \n",
              "12290      5543                                        Under World        1   \n",
              "12291      5621                     Violence Gekiga David no Hoshi        4   \n",
              "12292      6133  Violence Gekiga Shin David no Hoshi: Inma Dens...        1   \n",
              "12293     26081                   Yasuji no Pornorama: Yacchimae!!        1   \n",
              "\n",
              "       rating                                               tags  \n",
              "0        9.37         Drama, Romance, School, Supernatural,Movie  \n",
              "1        9.26  Action, Adventure, Drama, Fantasy, Magic, Mili...  \n",
              "2        9.25  Action, Comedy, Historical, Parody, Samurai, S...  \n",
              "3        9.17                                Sci-Fi, Thriller,TV  \n",
              "4        9.16  Action, Comedy, Historical, Parody, Samurai, S...  \n",
              "...       ...                                                ...  \n",
              "12289    4.15                                         Hentai,OVA  \n",
              "12290    4.28                                         Hentai,OVA  \n",
              "12291    4.88                                         Hentai,OVA  \n",
              "12292    4.98                                         Hentai,OVA  \n",
              "12293    5.46                                       Hentai,Movie  \n",
              "\n",
              "[12294 rows x 5 columns]"
            ]
          },
          "execution_count": 5,
          "metadata": {},
          "output_type": "execute_result"
        }
      ],
      "source": [
        "anime['tags'] = anime['genre']+','+anime['type']\n",
        "new = anime.drop(columns=['type','genre'])\n",
        "new"
      ]
    },
    {
      "cell_type": "code",
      "execution_count": 6,
      "metadata": {
        "execution": {
          "iopub.execute_input": "2024-03-30T09:50:58.922749Z",
          "iopub.status.busy": "2024-03-30T09:50:58.922431Z",
          "iopub.status.idle": "2024-03-30T09:51:00.505602Z",
          "shell.execute_reply": "2024-03-30T09:51:00.504389Z",
          "shell.execute_reply.started": "2024-03-30T09:50:58.922721Z"
        },
        "id": "k-HeJgEbZMyy",
        "trusted": true
      },
      "outputs": [],
      "source": [
        "from sklearn.feature_extraction.text import CountVectorizer\n",
        "cv = CountVectorizer(max_features=5000,stop_words='english')\n"
      ]
    },
    {
      "cell_type": "code",
      "execution_count": 7,
      "metadata": {
        "execution": {
          "iopub.execute_input": "2024-03-30T09:51:00.508311Z",
          "iopub.status.busy": "2024-03-30T09:51:00.507553Z",
          "iopub.status.idle": "2024-03-30T09:51:00.518401Z",
          "shell.execute_reply": "2024-03-30T09:51:00.516981Z",
          "shell.execute_reply.started": "2024-03-30T09:51:00.508259Z"
        },
        "id": "0ept68xSZMyy",
        "trusted": true
      },
      "outputs": [
        {
          "name": "stderr",
          "output_type": "stream",
          "text": [
            "C:\\Users\\singh\\AppData\\Local\\Temp\\ipykernel_31428\\2282698738.py:1: FutureWarning: A value is trying to be set on a copy of a DataFrame or Series through chained assignment using an inplace method.\n",
            "The behavior will change in pandas 3.0. This inplace method will never work because the intermediate object on which we are setting values always behaves as a copy.\n",
            "\n",
            "For example, when doing 'df[col].method(value, inplace=True)', try using 'df.method({col: value}, inplace=True)' or df[col] = df[col].method(value) instead, to perform the operation inplace on the original object.\n",
            "\n",
            "\n",
            "  new['tags'].fillna('', inplace=True)\n"
          ]
        }
      ],
      "source": [
        "new['tags'].fillna('', inplace=True)"
      ]
    },
    {
      "cell_type": "code",
      "execution_count": 8,
      "metadata": {
        "execution": {
          "iopub.execute_input": "2024-03-30T09:51:00.5214Z",
          "iopub.status.busy": "2024-03-30T09:51:00.520645Z",
          "iopub.status.idle": "2024-03-30T09:51:00.631767Z",
          "shell.execute_reply": "2024-03-30T09:51:00.630534Z",
          "shell.execute_reply.started": "2024-03-30T09:51:00.521361Z"
        },
        "id": "-7SGVXAjZMyz",
        "trusted": true
      },
      "outputs": [],
      "source": [
        "vector = cv.fit_transform(new['tags']).toarray()"
      ]
    },
    {
      "cell_type": "code",
      "execution_count": 9,
      "metadata": {
        "colab": {
          "base_uri": "https://localhost:8080/"
        },
        "execution": {
          "iopub.execute_input": "2024-03-30T09:51:00.634153Z",
          "iopub.status.busy": "2024-03-30T09:51:00.633755Z",
          "iopub.status.idle": "2024-03-30T09:51:00.640771Z",
          "shell.execute_reply": "2024-03-30T09:51:00.63958Z",
          "shell.execute_reply.started": "2024-03-30T09:51:00.634109Z"
        },
        "id": "dBzAyy6KZMyz",
        "outputId": "da420675-5c1d-40bc-aa97-45ef4694de4b",
        "trusted": true
      },
      "outputs": [
        {
          "data": {
            "text/plain": [
              "(12294, 51)"
            ]
          },
          "execution_count": 9,
          "metadata": {},
          "output_type": "execute_result"
        }
      ],
      "source": [
        "vector.shape"
      ]
    },
    {
      "cell_type": "code",
      "execution_count": 10,
      "metadata": {
        "execution": {
          "iopub.execute_input": "2024-03-30T09:51:00.643436Z",
          "iopub.status.busy": "2024-03-30T09:51:00.642495Z",
          "iopub.status.idle": "2024-03-30T09:51:00.741304Z",
          "shell.execute_reply": "2024-03-30T09:51:00.740082Z",
          "shell.execute_reply.started": "2024-03-30T09:51:00.643394Z"
        },
        "id": "XjM911S6ZMyz",
        "trusted": true
      },
      "outputs": [],
      "source": [
        "from sklearn.metrics.pairwise import cosine_similarity\n"
      ]
    },
    {
      "cell_type": "code",
      "execution_count": 11,
      "metadata": {
        "execution": {
          "iopub.execute_input": "2024-03-30T09:51:00.742925Z",
          "iopub.status.busy": "2024-03-30T09:51:00.742604Z",
          "iopub.status.idle": "2024-03-30T09:51:01.625908Z",
          "shell.execute_reply": "2024-03-30T09:51:01.62468Z",
          "shell.execute_reply.started": "2024-03-30T09:51:00.742898Z"
        },
        "id": "U9V7-fapZMyz",
        "trusted": true
      },
      "outputs": [],
      "source": [
        "similarity = cosine_similarity(vector)"
      ]
    },
    {
      "cell_type": "code",
      "execution_count": 12,
      "metadata": {
        "colab": {
          "base_uri": "https://localhost:8080/"
        },
        "execution": {
          "iopub.execute_input": "2024-03-30T09:51:36.529139Z",
          "iopub.status.busy": "2024-03-30T09:51:36.528288Z",
          "iopub.status.idle": "2024-03-30T09:51:36.537924Z",
          "shell.execute_reply": "2024-03-30T09:51:36.53658Z",
          "shell.execute_reply.started": "2024-03-30T09:51:36.52909Z"
        },
        "id": "E6OiYIQSZMy0",
        "outputId": "00c38ea6-4a2e-44bc-e8f1-925e5bf69bed",
        "trusted": true
      },
      "outputs": [
        {
          "data": {
            "text/plain": [
              "array([[1.        , 0.15811388, 0.        , ..., 0.        , 0.        ,\n",
              "        0.31622777],\n",
              "       [0.15811388, 1.        , 0.35355339, ..., 0.        , 0.        ,\n",
              "        0.        ],\n",
              "       [0.        , 0.35355339, 1.        , ..., 0.        , 0.        ,\n",
              "        0.        ],\n",
              "       ...,\n",
              "       [0.        , 0.        , 0.        , ..., 1.        , 1.        ,\n",
              "        0.5       ],\n",
              "       [0.        , 0.        , 0.        , ..., 1.        , 1.        ,\n",
              "        0.5       ],\n",
              "       [0.31622777, 0.        , 0.        , ..., 0.5       , 0.5       ,\n",
              "        1.        ]])"
            ]
          },
          "execution_count": 12,
          "metadata": {},
          "output_type": "execute_result"
        }
      ],
      "source": [
        "similarity"
      ]
    },
    {
      "cell_type": "code",
      "execution_count": 13,
      "metadata": {
        "colab": {
          "base_uri": "https://localhost:8080/"
        },
        "execution": {
          "iopub.execute_input": "2024-03-30T09:53:48.825978Z",
          "iopub.status.busy": "2024-03-30T09:53:48.825587Z",
          "iopub.status.idle": "2024-03-30T09:53:48.836542Z",
          "shell.execute_reply": "2024-03-30T09:53:48.835353Z",
          "shell.execute_reply.started": "2024-03-30T09:53:48.825949Z"
        },
        "id": "0ZcVhCMdZMy0",
        "outputId": "a285b939-32a6-4a10-d56c-85f195330736",
        "trusted": true
      },
      "outputs": [
        {
          "data": {
            "text/plain": [
              "12290"
            ]
          },
          "execution_count": 13,
          "metadata": {},
          "output_type": "execute_result"
        }
      ],
      "source": [
        "new[new['name'] == 'Under World'].index[0]"
      ]
    },
    {
      "cell_type": "code",
      "execution_count": 14,
      "metadata": {
        "execution": {
          "iopub.execute_input": "2024-03-30T09:58:53.421576Z",
          "iopub.status.busy": "2024-03-30T09:58:53.421164Z",
          "iopub.status.idle": "2024-03-30T09:58:53.4284Z",
          "shell.execute_reply": "2024-03-30T09:58:53.427343Z",
          "shell.execute_reply.started": "2024-03-30T09:58:53.421547Z"
        },
        "id": "01ypf9GhZMy0",
        "trusted": true
      },
      "outputs": [],
      "source": [
        "def recommend(anime):\n",
        "    index = new[new['name'] == anime].index[0]\n",
        "    distances = sorted(list(enumerate(similarity[index])),reverse=True,key = lambda x: x[1])\n",
        "    for i in distances[1:6]:\n",
        "        print(new.iloc[i[0]]['name'])"
      ]
    },
    {
      "cell_type": "code",
      "execution_count": 15,
      "metadata": {
        "colab": {
          "base_uri": "https://localhost:8080/"
        },
        "execution": {
          "iopub.execute_input": "2024-03-30T09:58:57.429503Z",
          "iopub.status.busy": "2024-03-30T09:58:57.428906Z",
          "iopub.status.idle": "2024-03-30T09:58:57.445072Z",
          "shell.execute_reply": "2024-03-30T09:58:57.443761Z",
          "shell.execute_reply.started": "2024-03-30T09:58:57.429472Z"
        },
        "id": "MrpVzf6UZMy0",
        "outputId": "5af0b0d1-3bb3-4fd0-d877-00108d1b7e98",
        "trusted": true
      },
      "outputs": [
        {
          "name": "stdout",
          "output_type": "stream",
          "text": [
            "Mankitsu Happening\n",
            "Koiito Kinenbi The Animation\n",
            "Oni Chichi: Rebuild\n",
            "Eroge! H mo Game mo Kaihatsu Zanmai\n",
            "Oni Chichi: Re-birth\n"
          ]
        }
      ],
      "source": [
        "recommend('Under World')"
      ]
    },
    {
      "cell_type": "code",
      "execution_count": 16,
      "metadata": {
        "execution": {
          "iopub.execute_input": "2024-03-30T09:59:46.388185Z",
          "iopub.status.busy": "2024-03-30T09:59:46.387781Z",
          "iopub.status.idle": "2024-03-30T09:59:46.393158Z",
          "shell.execute_reply": "2024-03-30T09:59:46.392008Z",
          "shell.execute_reply.started": "2024-03-30T09:59:46.388155Z"
        },
        "id": "nDbSgF8GZMy0",
        "trusted": true
      },
      "outputs": [],
      "source": [
        "import pickle"
      ]
    },
    {
      "cell_type": "code",
      "execution_count": 17,
      "metadata": {
        "execution": {
          "iopub.execute_input": "2024-03-30T10:13:37.53032Z",
          "iopub.status.busy": "2024-03-30T10:13:37.529863Z",
          "iopub.status.idle": "2024-03-30T10:13:40.694522Z",
          "shell.execute_reply": "2024-03-30T10:13:40.693287Z",
          "shell.execute_reply.started": "2024-03-30T10:13:37.530283Z"
        },
        "id": "2GGjxlNkZMy0",
        "trusted": true
      },
      "outputs": [],
      "source": [
        "pickle.dump(new,open('anime_list.pkl','wb'))\n",
        "pickle.dump(similarity,open('similarity.pkl','wb'))"
      ]
    }
  ],
  "metadata": {
    "colab": {
      "name": "anime_reccomendation",
      "provenance": []
    },
    "kaggle": {
      "accelerator": "none",
      "dataSources": [
        {
          "datasetId": 571,
          "sourceId": 1094,
          "sourceType": "datasetVersion"
        }
      ],
      "dockerImageVersionId": 30673,
      "isGpuEnabled": false,
      "isInternetEnabled": true,
      "language": "python",
      "sourceType": "notebook"
    },
    "kernelspec": {
      "display_name": "Python 3",
      "language": "python",
      "name": "python3"
    },
    "language_info": {
      "codemirror_mode": {
        "name": "ipython",
        "version": 3
      },
      "file_extension": ".py",
      "mimetype": "text/x-python",
      "name": "python",
      "nbconvert_exporter": "python",
      "pygments_lexer": "ipython3",
      "version": "3.12.5"
    }
  },
  "nbformat": 4,
  "nbformat_minor": 0
}
